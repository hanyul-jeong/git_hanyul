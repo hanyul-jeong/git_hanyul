{
 "cells": [
  {
   "cell_type": "markdown",
   "metadata": {},
   "source": [
    "사용자로부터 3개의 숫자를 입력받아, 이를 튜플로 만든 후 최소값과 최대값을 출력하는 함수 min_max를 작성하세요."
   ]
  },
  {
   "cell_type": "markdown",
   "metadata": {},
   "source": []
  },
  {
   "cell_type": "code",
   "execution_count": 2,
   "metadata": {},
   "outputs": [
    {
     "name": "stdout",
     "output_type": "stream",
     "text": [
      "최소값: 100 \n",
      "최대값: 500\n"
     ]
    }
   ],
   "source": [
    "def min_max():\n",
    "    a = int(input(\"첫 번째 숫자를 입력하세요: \"))\n",
    "    b = int(input(\"두 번째 숫자를 입력하세요: \"))\n",
    "    c = int(input(\"세 번째 숫자를 입력하세요: \"))\n",
    "\n",
    "    numbers = (a, b, c)\n",
    "\n",
    "    print(f\"최소값: {min(numbers)} \\n최대값: {max(numbers)}\")\n",
    "\n",
    "min_max()"
   ]
  }
 ],
 "metadata": {
  "kernelspec": {
   "display_name": "Python 3",
   "language": "python",
   "name": "python3"
  },
  "language_info": {
   "codemirror_mode": {
    "name": "ipython",
    "version": 3
   },
   "file_extension": ".py",
   "mimetype": "text/x-python",
   "name": "python",
   "nbconvert_exporter": "python",
   "pygments_lexer": "ipython3",
   "version": "3.13.1"
  }
 },
 "nbformat": 4,
 "nbformat_minor": 2
}
