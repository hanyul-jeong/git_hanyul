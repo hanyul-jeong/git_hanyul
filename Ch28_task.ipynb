{
 "cells": [
  {
   "cell_type": "markdown",
   "metadata": {},
   "source": [
    "사용자로부터 3개의 숫자를 입력받아, 이를 튜플로 만든 후 최소값과 최대값을 출력하는 함수 min_max를 작성하세요."
   ]
  },
  {
   "cell_type": "markdown",
   "metadata": {},
   "source": []
  },
  {
   "cell_type": "code",
   "execution_count": null,
   "metadata": {},
   "outputs": [],
   "source": [
    "def min_max():\n",
    "    a = int(input(\"첫 번째 숫자를 입력하세요: \"))\n",
    "    b = int(input(\"두 번째 숫자를 입력하세요: \"))\n",
    "    c = int(input(\"세 번째 숫자를 입력하세요: \"))\n",
    "\n",
    "    numbers = (a, b, c)\n",
    "\n",
    "    print(f\"최소값: {min(numbers)} \\n최대값: {max(numbers)}\")\n",
    "\n",
    "min_max()"
   ]
  }
 ],
 "metadata": {
  "language_info": {
   "name": "python"
  }
 },
 "nbformat": 4,
 "nbformat_minor": 2
}
