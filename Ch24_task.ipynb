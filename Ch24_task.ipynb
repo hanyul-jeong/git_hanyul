{
 "cells": [
  {
   "cell_type": "markdown",
   "metadata": {},
   "source": [
    "사용자의 이름, 나이, 성별을 출력하는 함수 print_info를 작성하세요. 이 때, 모든 매개변수는 키워드 매개변수로만 받도록 하세요."
   ]
  },
  {
   "cell_type": "markdown",
   "metadata": {},
   "source": []
  },
  {
   "cell_type": "code",
   "execution_count": 7,
   "metadata": {},
   "outputs": [
    {
     "name": "stdout",
     "output_type": "stream",
     "text": [
      "\n",
      "입력하신 정보는 다음과 같습니다:\n",
      "이름: 정한율 \n",
      "나이: 28세 \n",
      "성별: 남성\n"
     ]
    }
   ],
   "source": [
    "이름 = input(\"이름을 입력하세요: \")\n",
    "나이 = input(\"나이를 입력하세요: \")\n",
    "성별 = input(\"성별을 입력하세요 (예: 남, 여): \")\n",
    "\n",
    "def print_info(*, 이름, 나이, 성별):\n",
    "    print(\"\\n입력하신 정보는 다음과 같습니다:\")\n",
    "    print(f\"이름: {이름} \\n나이: {나이}세 \\n성별: {성별}성\")\n",
    "\n",
    "print_info(이름=이름,나이=나이,성별=성별)"
   ]
  }
 ],
 "metadata": {
  "kernelspec": {
   "display_name": "Python 3",
   "language": "python",
   "name": "python3"
  },
  "language_info": {
   "codemirror_mode": {
    "name": "ipython",
    "version": 3
   },
   "file_extension": ".py",
   "mimetype": "text/x-python",
   "name": "python",
   "nbconvert_exporter": "python",
   "pygments_lexer": "ipython3",
   "version": "3.13.1"
  }
 },
 "nbformat": 4,
 "nbformat_minor": 2
}
