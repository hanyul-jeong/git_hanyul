{
 "cells": [
  {
   "cell_type": "markdown",
   "metadata": {},
   "source": [
    "사용자의 이름, 나이, 성별을 출력하는 함수 print_info를 작성하세요. 이 때, 모든 매개변수는 키워드 매개변수로만 받도록 하세요."
   ]
  },
  {
   "cell_type": "markdown",
   "metadata": {},
   "source": []
  },
  {
   "cell_type": "code",
   "execution_count": null,
   "metadata": {},
   "outputs": [
    {
     "ename": "TypeError",
     "evalue": "print_info() takes 0 positional arguments but 3 were given",
     "output_type": "error",
     "traceback": [
      "\u001b[1;31m---------------------------------------------------------------------------\u001b[0m",
      "\u001b[1;31mTypeError\u001b[0m                                 Traceback (most recent call last)",
      "Cell \u001b[1;32mIn[6], line 9\u001b[0m\n\u001b[0;32m      6\u001b[0m     \u001b[38;5;28mprint\u001b[39m(\u001b[38;5;124m\"\u001b[39m\u001b[38;5;130;01m\\n\u001b[39;00m\u001b[38;5;124m입력하신 정보는 다음과 같습니다:\u001b[39m\u001b[38;5;124m\"\u001b[39m)\n\u001b[0;32m      7\u001b[0m     \u001b[38;5;28mprint\u001b[39m(\u001b[38;5;124mf\u001b[39m\u001b[38;5;124m\"\u001b[39m\u001b[38;5;124m이름: \u001b[39m\u001b[38;5;132;01m{\u001b[39;00m이름\u001b[38;5;132;01m}\u001b[39;00m\u001b[38;5;124m \u001b[39m\u001b[38;5;130;01m\\n\u001b[39;00m\u001b[38;5;124m나이: \u001b[39m\u001b[38;5;132;01m{\u001b[39;00m나이\u001b[38;5;132;01m}\u001b[39;00m\u001b[38;5;124m세 \u001b[39m\u001b[38;5;130;01m\\n\u001b[39;00m\u001b[38;5;124m성별: \u001b[39m\u001b[38;5;132;01m{\u001b[39;00m성별\u001b[38;5;132;01m}\u001b[39;00m\u001b[38;5;124m성\u001b[39m\u001b[38;5;124m\"\u001b[39m)\n\u001b[1;32m----> 9\u001b[0m \u001b[43mprint_info\u001b[49m\u001b[43m(\u001b[49m\u001b[43m이름\u001b[49m\u001b[43m,\u001b[49m\u001b[43m나이\u001b[49m\u001b[43m,\u001b[49m\u001b[43m성별\u001b[49m\u001b[43m)\u001b[49m\n",
      "\u001b[1;31mTypeError\u001b[0m: print_info() takes 0 positional arguments but 3 were given"
     ]
    }
   ],
   "source": [
    "이름 = input(\"이름을 입력하세요: \")\n",
    "나이 = input(\"나이를 입력하세요: \")\n",
    "성별 = input(\"성별을 입력하세요 (예: 남, 여): \")\n",
    "\n",
    "def print_info(*, 이름, 나이, 성별):\n",
    "    print(\"\\n입력하신 정보는 다음과 같습니다:\")\n",
    "    print(f\"이름: {이름} \\n나이: {나이}세 \\n성별: {성별}성\")\n",
    "\n",
    "print_info(이름=이름,나이=나이,성별=성별)"
   ]
  }
 ],
 "metadata": {
  "kernelspec": {
   "display_name": "Python 3",
   "language": "python",
   "name": "python3"
  },
  "language_info": {
   "codemirror_mode": {
    "name": "ipython",
    "version": 3
   },
   "file_extension": ".py",
   "mimetype": "text/x-python",
   "name": "python",
   "nbconvert_exporter": "python",
   "pygments_lexer": "ipython3",
   "version": "3.13.1"
  }
 },
 "nbformat": 4,
 "nbformat_minor": 2
}
