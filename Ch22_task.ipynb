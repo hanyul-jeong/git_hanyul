{
 "cells": [
  {
   "cell_type": "markdown",
   "metadata": {},
   "source": [
    "여러 숫자를 입력받아 그 합계를 반환하는 함수 sum_numbers를 작성하세요. 이 때, 가변 매개변수를 사용하세요."
   ]
  },
  {
   "cell_type": "markdown",
   "metadata": {},
   "source": []
  },
  {
   "cell_type": "code",
   "execution_count": 12,
   "metadata": {},
   "outputs": [
    {
     "name": "stdout",
     "output_type": "stream",
     "text": [
      "유효한 숫자를 입력하세요.\n",
      "유효한 숫자를 입력하세요.\n",
      "유효한 숫자를 입력하세요.\n",
      "유효한 숫자를 입력하세요.\n",
      "입력한 숫자들의 최종 합계는 23입니다.\n"
     ]
    }
   ],
   "source": [
    "def sum_numbers():\n",
    "    sum = 0\n",
    "    while True:\n",
    "        number = input(\"숫자를 입력하세요 (- 입력시 작동중지): \")\n",
    "        if number.lower() == \"-\":\n",
    "            break\n",
    "        try:\n",
    "            sum += int(number)\n",
    "        except ValueError:\n",
    "            print(\"유효한 숫자를 입력하세요.\")\n",
    "    print(f\"입력한 숫자들의 최종 합계는 {sum}입니다.\")\n",
    "\n",
    "sum_numbers()"
   ]
  }
 ],
 "metadata": {
  "kernelspec": {
   "display_name": "Python 3",
   "language": "python",
   "name": "python3"
  },
  "language_info": {
   "codemirror_mode": {
    "name": "ipython",
    "version": 3
   },
   "file_extension": ".py",
   "mimetype": "text/x-python",
   "name": "python",
   "nbconvert_exporter": "python",
   "pygments_lexer": "ipython3",
   "version": "3.13.1"
  }
 },
 "nbformat": 4,
 "nbformat_minor": 2
}
