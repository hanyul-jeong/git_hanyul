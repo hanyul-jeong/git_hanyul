{
 "cells": [
  {
   "cell_type": "markdown",
   "metadata": {},
   "source": [
    "사용자 정의 예외 NegativeNumberError를 생성하고, 사용자로부터 숫자를 입력받아 음수일 경우 NegativeNumberError를 발생시키는 프로그램을 작성하세요. \n",
    "\n",
    "- 예외 처리 구문을 사용하여 음수 입력 시 \"양수를 입력해주세요.\"라는 메시지를 출력"
   ]
  },
  {
   "cell_type": "code",
   "execution_count": null,
   "metadata": {},
   "outputs": [
    {
     "name": "stdout",
     "output_type": "stream",
     "text": [
      "입력한 숫자는 0.0입니다.\n"
     ]
    }
   ],
   "source": [
    "# 사용자 정의 예외 클래스 정의\n",
    "class NegativeNumberError(Exception):\n",
    "    def __init__(self, message=\"양수를 입력해주세요.\"):\n",
    "        super().__init__(message)\n",
    "\n",
    "def 입력_받기():\n",
    "    try:\n",
    "        숫자 = int(input(\"숫자를 입력하세요: \"))\n",
    "        if 숫자 < 0:\n",
    "            raise NegativeNumberError()\n",
    "        print(f\"입력한 숫자는 {숫자}입니다.\")\n",
    "    except NegativeNumberError as e:\n",
    "        print(e)\n",
    "\n",
    "# 프로그램 실행\n",
    "입력_받기()\n"
   ]
  }
 ],
 "metadata": {
  "kernelspec": {
   "display_name": "Python 3",
   "language": "python",
   "name": "python3"
  },
  "language_info": {
   "codemirror_mode": {
    "name": "ipython",
    "version": 3
   },
   "file_extension": ".py",
   "mimetype": "text/x-python",
   "name": "python",
   "nbconvert_exporter": "python",
   "pygments_lexer": "ipython3",
   "version": "3.13.1"
  }
 },
 "nbformat": 4,
 "nbformat_minor": 2
}
