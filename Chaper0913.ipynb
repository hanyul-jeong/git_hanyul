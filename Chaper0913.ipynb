{
  "cells": [
    {
      "cell_type": "markdown",
      "metadata": {
        "id": "view-in-github",
        "colab_type": "text"
      },
      "source": [
        "<a href=\"https://colab.research.google.com/github/hanyul-jeong/git_hanyul/blob/main/Chaper0913.ipynb\" target=\"_parent\"><img src=\"https://colab.research.google.com/assets/colab-badge.svg\" alt=\"Open In Colab\"/></a>"
      ]
    },
    {
      "cell_type": "markdown",
      "metadata": {
        "id": "fD4Qab2qYgOm"
      },
      "source": [
        "안녕하세요. 수강생 여러분~! Chapter09 ~ 13 수업은 잘 들으셨나요?\n",
        "\n",
        "Chapter09 ~ 13의 수업 내용을 바탕으로 아래 문제를 풀어주시면 됩니다.\n",
        "\n",
        "\n",
        "<br>\n",
        "\n",
        "\n",
        "[**답변 입력 방법**]\n",
        "\n",
        "문제 아래에 있는 코드 입력창에 정답코드를 작성하신 후  __▷ 버튼을 클릭해 코드를 실행__ 해보세요<br>"
      ]
    },
    {
      "cell_type": "markdown",
      "metadata": {
        "id": "7rNn6ZMGeaz3"
      },
      "source": [
        "---"
      ]
    },
    {
      "cell_type": "markdown",
      "metadata": {
        "id": "MA63eXbIeaz3"
      },
      "source": [
        "__[문제0]__\n",
        "\n",
        "\n",
        "오즈 코딩 스쿨 백엔드 8기 과정에 참여한 수강생 중 3명의 수강생이 자율적으로 스터디 그룹을 결성했습니다.\n",
        "\n",
        "스터디 그룹 내에는 한 주간 배운 내용으로 매주 쪽지 시험을 보는 룰이 있습니다. 점수는 채점자 마음입니다.\n",
        "\n",
        "쪽지 시험의 점수를 직접 입력받고, 점수의 합을 출력해주세요!\n",
        "\n",
        "\n",
        "<br>\n",
        "\n"
      ]
    },
    {
      "cell_type": "code",
      "execution_count": 48,
      "metadata": {
        "colab": {
          "base_uri": "https://localhost:8080/"
        },
        "id": "xLN_eNMOeaz4",
        "outputId": "e5f8fd8e-857d-4fb9-8ede-5abf916c4762"
      },
      "outputs": [
        {
          "output_type": "stream",
          "name": "stdout",
          "text": [
            "100 50 5\n",
            "155\n"
          ]
        }
      ],
      "source": [
        "파머님,수현님,연수님 = map(int, input().split())\n",
        "print(파머님+수현님+연수님)"
      ]
    },
    {
      "cell_type": "markdown",
      "metadata": {
        "id": "swqdcIl8Yn-c"
      },
      "source": [
        "__[문제1]<br>__\n",
        "\n",
        "movie_rank 리스트에는 아래와 같이 네 개의 영화 제목이 바인딩되어 있다.\n",
        "\n",
        "\"비밀\"을 \"나폴레옹\"과 \"괴물\" 사이에 추가해주세요\n",
        "\n",
        "<br>\n",
        "\n",
        "```\n",
        "movie = ['서울의 봄', '나폴레옹', '괴물', '베트맨']\n",
        "```\n",
        "\n"
      ]
    },
    {
      "cell_type": "code",
      "execution_count": 23,
      "metadata": {
        "id": "vjUhNFdBYo2n",
        "colab": {
          "base_uri": "https://localhost:8080/"
        },
        "outputId": "08e0301e-e609-4904-8658-58f4e30088e6"
      },
      "outputs": [
        {
          "output_type": "stream",
          "name": "stdout",
          "text": [
            "['서울의 봄', '나폴레옹', '비밀', '괴물', '베트맨']\n"
          ]
        }
      ],
      "source": [
        "movie = ['서울의 봄', '나폴레옹', '괴물', '베트맨']\n",
        "movie.insert(2,'비밀')\n",
        "print(movie)"
      ]
    },
    {
      "cell_type": "markdown",
      "metadata": {
        "id": "G0lJ5-Y6eaz5"
      },
      "source": [
        "---"
      ]
    },
    {
      "cell_type": "markdown",
      "metadata": {
        "id": "KZBNuM5MYpZR"
      },
      "source": [
        "__[문제1-2]<br>__\n",
        "\n",
        "movie_rank 리스트에서 '베트맨'를 삭제해주세요\n",
        "\n",
        "<br>\n",
        "\n",
        "```\n",
        "movie = ['서울의 봄', '나폴레옹', '비밀', '괴물', '베트맨']\n",
        "```\n",
        "\n"
      ]
    },
    {
      "cell_type": "code",
      "execution_count": 24,
      "metadata": {
        "id": "cPezrT7cYreh",
        "colab": {
          "base_uri": "https://localhost:8080/"
        },
        "outputId": "130e9f7d-ded1-4715-db5d-ca51d1021008"
      },
      "outputs": [
        {
          "output_type": "stream",
          "name": "stdout",
          "text": [
            "['서울의 봄', '나폴레옹', '비밀', '괴물']\n"
          ]
        }
      ],
      "source": [
        "del movie[-1]\n",
        "print(movie)"
      ]
    },
    {
      "cell_type": "markdown",
      "metadata": {
        "id": "i8EJYPY0YsAe"
      },
      "source": [
        "__[문제2]<br>__\n",
        "\n",
        "[언어1]과 [언어2] 리스트가 있을 때 언어1과 언어2의 원소를 모두 갖고 있는 [언어모음]이라는 list를 만들어주세요\n",
        "\n",
        "```lang1 = [\"C\", \"C++\", \"JAVA\"]```<br>\n",
        "```lang2 = [\"Python\", \"Go\", \"C#\"]```  \n",
        "\n",
        "<br>\n",
        "실행 예)\n",
        "언어들\n",
        "['C', 'C++', 'JAVA', 'Python', 'Go', 'C#']"
      ]
    },
    {
      "cell_type": "code",
      "execution_count": 25,
      "metadata": {
        "colab": {
          "base_uri": "https://localhost:8080/"
        },
        "id": "FIvMS0h_eaz6",
        "outputId": "6199eb4e-897d-417a-94f1-3e8fe66fadc3"
      },
      "outputs": [
        {
          "output_type": "stream",
          "name": "stdout",
          "text": [
            "['C', 'C++', 'JAVA', 'Python', 'Go', 'C#']\n"
          ]
        }
      ],
      "source": [
        "lang1 = [\"C\", \"C++\", \"JAVA\"]\n",
        "lang2 = [\"Python\", \"Go\", \"C#\"]\n",
        "언어모음 = lang1 + lang2\n",
        "print(언어모음)"
      ]
    },
    {
      "cell_type": "markdown",
      "metadata": {
        "id": "bENc6nmEeaz6"
      },
      "source": [
        "---"
      ]
    },
    {
      "cell_type": "markdown",
      "metadata": {
        "id": "5VFysaYRwT69"
      },
      "source": [
        "__[문제3]<br>__\n",
        "\n",
        "다음 리스트에서 최댓값과 최솟값, 그리고 평균을 출력해주세요.\n",
        "<br>\n",
        "\n",
        "```\n",
        "nums = [1, 2, 3, 4, 5, 6, 7, 9, 10]\n",
        "```\n",
        "\n"
      ]
    },
    {
      "cell_type": "code",
      "execution_count": 47,
      "metadata": {
        "colab": {
          "base_uri": "https://localhost:8080/"
        },
        "id": "31tUg14Ueaz7",
        "outputId": "0a8b1a57-0eee-4f67-e42c-783d270814b3"
      },
      "outputs": [
        {
          "output_type": "stream",
          "name": "stdout",
          "text": [
            "최댓값 :  10 \n",
            "최솟값 :  1 \n",
            "평균값 :  5.222222222222222\n"
          ]
        }
      ],
      "source": [
        "nums = [1, 2, 3, 4, 5, 6, 7, 9, 10]\n",
        "print(\"최댓값 : \", max(nums)\n",
        "      ,\"\\n최솟값 : \", min(nums)\n",
        "      , \"\\n평균값 : \", (sum(nums) / len(nums)))"
      ]
    },
    {
      "cell_type": "markdown",
      "metadata": {
        "id": "TxHiau37eaz7"
      },
      "source": [
        "---"
      ]
    },
    {
      "cell_type": "markdown",
      "metadata": {
        "id": "5_IA50IQE2AM"
      },
      "source": [
        "__[문제4]__\n",
        "\n",
        "다음 리스트에 저장된 데이터의 개수를 화면에 구해주세요\n",
        "\n",
        "```cook = [\"피자\", \"김밥\", \"만두\", \"양념치킨\", \"족발\", \"피자\", \"김치만두\", \"쫄면\"]```"
      ]
    },
    {
      "cell_type": "code",
      "execution_count": 30,
      "metadata": {
        "id": "iRDvWnF8wTXa",
        "colab": {
          "base_uri": "https://localhost:8080/"
        },
        "outputId": "a894c246-2368-4c94-9453-4710f3a3d38c"
      },
      "outputs": [
        {
          "output_type": "stream",
          "name": "stdout",
          "text": [
            "8\n"
          ]
        }
      ],
      "source": [
        "cook = [\"피자\", \"김밥\", \"만두\", \"양념치킨\", \"족발\", \"피자\", \"김치만두\", \"쫄면\"]\n",
        "print(len(cook))"
      ]
    },
    {
      "cell_type": "markdown",
      "metadata": {
        "id": "pdw2q_bBeaz7"
      },
      "source": [
        "---"
      ]
    },
    {
      "cell_type": "markdown",
      "metadata": {
        "id": "jj7QhfCKeaz7"
      },
      "source": [
        "---"
      ]
    },
    {
      "cell_type": "markdown",
      "metadata": {
        "id": "Cp7IpuJBFcq2"
      },
      "source": [
        "__[문제5]__\n",
        "\n",
        "price 변수에는 날짜와 종가 정보가 저장돼 있습니다.\n",
        "날짜 정보를 제외하고 가격 정보만을 출력해주세요\n",
        "\n",
        "```price = ['20180728', 100, 130, 140, 150, 160, 170]```\n",
        "\n",
        "<br>\n",
        "출력 예) [100, 130, 140, 150, 160, 170]"
      ]
    },
    {
      "cell_type": "code",
      "execution_count": 31,
      "metadata": {
        "id": "BpMb0bHPFdKF",
        "colab": {
          "base_uri": "https://localhost:8080/"
        },
        "outputId": "389994b7-deae-4bf0-b296-f796eb7e1dd1"
      },
      "outputs": [
        {
          "output_type": "stream",
          "name": "stdout",
          "text": [
            "[100, 130, 140, 150, 160, 170]\n"
          ]
        }
      ],
      "source": [
        "price = ['20180728', 100, 130, 140, 150, 160, 170]\n",
        "print(price[1:])"
      ]
    },
    {
      "cell_type": "markdown",
      "metadata": {
        "id": "-KFtO6rSeaz8"
      },
      "source": [
        "---"
      ]
    },
    {
      "cell_type": "markdown",
      "metadata": {
        "id": "1DwclZivGe72"
      },
      "source": [
        "__[문제6]__\n",
        "\n",
        "<br>\n",
        "다음 딕셔너리를 사용하여 메로나 가격을 출력해주세요\n",
        "\n",
        "```ice = {'메로나': 1000,```<br>\n",
        "&emsp;&emsp;&emsp;&emsp;```'폴로포': 1200,```<br>\n",
        "&emsp;&emsp;&emsp;&emsp;```'빵빠레': 1800,```<br>\n",
        "&emsp;&emsp;&emsp;&emsp;```'죠스바': 1200,```<br>\n",
        "&emsp;&emsp;&emsp;&emsp;```'월드콘': 1500}```<br>\n",
        "\n",
        "<br>\n",
        "출력 예) 메로나 가격: 1000"
      ]
    },
    {
      "cell_type": "code",
      "execution_count": 34,
      "metadata": {
        "id": "jADTPFzOHcKk",
        "colab": {
          "base_uri": "https://localhost:8080/"
        },
        "outputId": "10330e48-8275-4573-db18-e374da830406"
      },
      "outputs": [
        {
          "output_type": "stream",
          "name": "stdout",
          "text": [
            "1000\n"
          ]
        }
      ],
      "source": [
        "ice = {'메로나': 1000,'폴로포': 1200,'빵빠레': 1800,'죠스바': 1200,'월드콘': 1500}\n",
        "print(ice[\"메로나\"])"
      ]
    },
    {
      "cell_type": "markdown",
      "metadata": {
        "id": "giVsFA4Teaz8"
      },
      "source": [
        "---"
      ]
    },
    {
      "cell_type": "markdown",
      "metadata": {
        "id": "mBs2AaqcJAXN"
      },
      "source": [
        "__[문제6-1]__\n",
        "\n",
        "다음 딕셔너리에서 메로나의 가격을 1300으로 수정해주세요\n",
        "\n",
        "```ice = {'메로나': 1000,```<br>\n",
        "&emsp;&emsp;&emsp;&emsp;```'폴로포': 1200,```<br>\n",
        "&emsp;&emsp;&emsp;&emsp;```'빵빠레': 1800,```<br>\n",
        "&emsp;&emsp;&emsp;&emsp;```'죠스바': 1200,```<br>\n",
        "&emsp;&emsp;&emsp;&emsp;```'월드콘': 1500}```<br>"
      ]
    },
    {
      "cell_type": "code",
      "execution_count": 35,
      "metadata": {
        "id": "C2RyUgoTJKsF",
        "colab": {
          "base_uri": "https://localhost:8080/"
        },
        "outputId": "b85fb482-41c4-40a1-d888-a47017e402cb"
      },
      "outputs": [
        {
          "output_type": "stream",
          "name": "stdout",
          "text": [
            "1300\n"
          ]
        }
      ],
      "source": [
        "ice[\"메로나\"] = 1300\n",
        "print(ice[\"메로나\"])"
      ]
    },
    {
      "cell_type": "markdown",
      "metadata": {
        "id": "8wTwOo_Jeaz8"
      },
      "source": [
        "---"
      ]
    },
    {
      "cell_type": "markdown",
      "metadata": {
        "id": "_ZdcVEtTJKS1"
      },
      "source": [
        "__[문제7]__\n",
        "\n",
        "아래 순서대로 주어진 수강생 이름과 등급을 하나의 딕셔너리로 만드는 코드를 작성해주세요\n",
        "\n",
        "\n",
        "names : 나이썬, 김자바, 김씨, 박씨샵  \n",
        "grades :   B       B      A      C\n"
      ]
    },
    {
      "cell_type": "code",
      "execution_count": 37,
      "metadata": {
        "id": "7RyqlYwpJOp7",
        "colab": {
          "base_uri": "https://localhost:8080/"
        },
        "outputId": "f889194f-b8be-4f4c-d423-3dcb105a1e41"
      },
      "outputs": [
        {
          "output_type": "stream",
          "name": "stdout",
          "text": [
            "{'나이썬': 'B', '김자바': 'B', '김씨': 'A', '박씨샵': 'C'}\n"
          ]
        }
      ],
      "source": [
        "성적표 = {'나이썬' : 'B', '김자바' : 'B', '김씨' : 'A', '박씨샵' : 'C'}\n",
        "print(성적표)"
      ]
    },
    {
      "cell_type": "markdown",
      "metadata": {
        "id": "namnpckneaz9"
      },
      "source": [
        "---"
      ]
    },
    {
      "cell_type": "markdown",
      "metadata": {
        "id": "yzi6f2-YKsk4"
      },
      "source": [
        "__[문제8]__\n",
        "\n",
        "아래 ice 딕셔너리에 데이터를 추가 후 출력해주세요\n",
        "\n",
        "ice = {\"메로나\": [300, 20],  \n",
        "              \"비비빅\": [400, 3],  \n",
        "              \"죠스바\": [250, 100]}  \n",
        "\n",
        "\n",
        "추가해야하는 데이터) 이름 : 보석바, 가격:650, 재고:10"
      ]
    },
    {
      "cell_type": "code",
      "execution_count": 39,
      "metadata": {
        "colab": {
          "base_uri": "https://localhost:8080/"
        },
        "id": "fbZM-Hmzeaz9",
        "outputId": "53cc2841-254f-4205-bc10-c852c7d3c3a2"
      },
      "outputs": [
        {
          "output_type": "stream",
          "name": "stdout",
          "text": [
            "{'메로나': [300, 20], '비비빅': [400, 3], '죠스바': [250, 100], '보석바': [650, 10]}\n"
          ]
        }
      ],
      "source": [
        "ice = {\"메로나\": [300, 20],\"비비빅\": [400, 3],\"죠스바\": [250, 100]}\n",
        "ice[\"보석바\"] = [650, 10]\n",
        "print(ice)"
      ]
    },
    {
      "cell_type": "markdown",
      "metadata": {
        "id": "L5T3FEyWeaz9"
      },
      "source": [
        "---"
      ]
    },
    {
      "cell_type": "markdown",
      "metadata": {
        "id": "RQJC80PBLWGt"
      },
      "source": [
        "__[문제9]__\n",
        "\n",
        "아래 딕셔너리에서 key만 list 형태로 출력해주세요\n",
        "\n",
        "ice = {'메로나': 1000, '폴로포': 1200, '빵빠레': 1800, '죠스바': 1200, '월드콘': 1500}\n"
      ]
    },
    {
      "cell_type": "code",
      "execution_count": 40,
      "metadata": {
        "id": "m5m-a09iLVbO",
        "colab": {
          "base_uri": "https://localhost:8080/"
        },
        "outputId": "aa17dfcf-5acf-403f-aaa2-987a35ed07e2"
      },
      "outputs": [
        {
          "output_type": "stream",
          "name": "stdout",
          "text": [
            "['메로나', '비비빅', '죠스바', '보석바']\n"
          ]
        }
      ],
      "source": [
        "ice2 = list(ice.keys())\n",
        "print(ice2)"
      ]
    }
  ],
  "metadata": {
    "colab": {
      "provenance": [],
      "include_colab_link": true
    },
    "kernelspec": {
      "display_name": "Python 3",
      "name": "python3"
    },
    "language_info": {
      "name": "python"
    }
  },
  "nbformat": 4,
  "nbformat_minor": 0
}