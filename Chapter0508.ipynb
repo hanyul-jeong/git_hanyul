{
  "cells": [
    {
      "cell_type": "markdown",
      "metadata": {
        "id": "view-in-github",
        "colab_type": "text"
      },
      "source": [
        "<a href=\"https://colab.research.google.com/github/hanyul-jeong/git_hanyul/blob/main/Chapter0508.ipynb\" target=\"_parent\"><img src=\"https://colab.research.google.com/assets/colab-badge.svg\" alt=\"Open In Colab\"/></a>"
      ]
    },
    {
      "cell_type": "markdown",
      "metadata": {
        "id": "WXEwMsfUct7U"
      },
      "source": [
        "안녕하세요.<br><br>\n",
        "수강생 여러분~! Chapter05 ~ 08 수업은 잘 들으셨나요?\n",
        "\n",
        "Chapter05 ~ 08의 수업 내용을 바탕으로 아래 문제를 풀어주시면 됩니다.\n",
        "\n",
        "<br>\n",
        "\n",
        "\n",
        "[**답변 입력 방법**]\n",
        "\n",
        "문제 아래에 있는 코드 입력창에 정답코드를 작성하신 후  __▷ 버튼을 클릭해 코드를 실행__ 해보세요<br>"
      ]
    },
    {
      "cell_type": "markdown",
      "metadata": {
        "id": "qoyC9wF-3hvs"
      },
      "source": [
        "-----"
      ]
    },
    {
      "cell_type": "markdown",
      "metadata": {
        "id": "a3LbXtejkW6Z"
      },
      "source": [
        "__[문제0]__\n",
        "<br>\n",
        "\n",
        "##### 이전 과제에서 \"도전! 신비의 섬 탐험\" 을 변수를 이용해서 다시 풀어보세요 !!!!!\n",
        "\n"
      ]
    },
    {
      "cell_type": "markdown",
      "metadata": {
        "id": "rAD_O3Gmc_43"
      },
      "source": [
        "__[문제1]__\n",
        "\n",
        "<br>\n",
        "변수명 게임에 들어 있는 값 중 '홀'만 출력되도록 코드를 작성해 주세요\n",
        "\n",
        "game = \"홀짝홀짝홀짝\"\n",
        "\n",
        "출력 예시 : \"홀홀홀\"\n"
      ]
    },
    {
      "cell_type": "markdown",
      "metadata": {
        "id": "ML9n9wZUkW6b"
      },
      "source": [
        "__Tips__\n",
        "- 문자열 슬라이싱을 이용해보세요 !"
      ]
    },
    {
      "cell_type": "code",
      "execution_count": 16,
      "metadata": {
        "id": "74wtVQFFc_h1",
        "colab": {
          "base_uri": "https://localhost:8080/"
        },
        "outputId": "5abff5c1-e876-4fae-a903-34434894fe48"
      },
      "outputs": [
        {
          "output_type": "stream",
          "name": "stdout",
          "text": [
            "홀홀홀\n"
          ]
        }
      ],
      "source": [
        "game = \"홀짝홀짝홀짝\"\n",
        "print(game[::2])"
      ]
    },
    {
      "cell_type": "markdown",
      "metadata": {
        "id": "_w1J30qskW6d"
      },
      "source": [
        "---"
      ]
    },
    {
      "cell_type": "markdown",
      "metadata": {
        "id": "3uK_auXYdgk2"
      },
      "source": [
        "__[문제2]__\n",
        "\n",
        "<br>\n",
        "\n",
        "변수명 전화번호에 들어 있는 번호를 모두 붙여서 출력되도록 코드를 작성해주세요.\n",
        "\n",
        "<br>\n",
        "\n",
        "phone = \"010-1234-5678\"\n",
        "\n",
        "출력 예시 : \"01012345678\""
      ]
    },
    {
      "cell_type": "markdown",
      "metadata": {
        "id": "m9DFUat6kW6d"
      },
      "source": [
        "__Tips__\n",
        "- split() 함수는 문자열을 특정 구분자를 기준으로 나누어 리스트로 반환합니다."
      ]
    },
    {
      "cell_type": "code",
      "execution_count": 32,
      "metadata": {
        "id": "9kvBxa6PdhgA",
        "colab": {
          "base_uri": "https://localhost:8080/"
        },
        "outputId": "17ea9a09-995b-40e5-c045-ae8c1674920d"
      },
      "outputs": [
        {
          "output_type": "stream",
          "name": "stdout",
          "text": [
            "01012345678\n"
          ]
        }
      ],
      "source": [
        "phone = \"010-1234-5678\"\n",
        "print(phone[0:3]+phone[4:8]+phone[9:13])"
      ]
    },
    {
      "cell_type": "markdown",
      "metadata": {
        "id": "VqvdMsRmkW6e"
      },
      "source": [
        "----"
      ]
    },
    {
      "cell_type": "markdown",
      "metadata": {
        "id": "jcN1w18IkW6e"
      },
      "source": [
        "<br>\n",
        "\n",
        "__[문제3]__\n",
        "\n",
        "<br>\n",
        "\n",
        "오즈 코딩 스쿨 백엔드 8기 과정에 참여한 수강생 중 5명의 수강생이 자율적으로 스터디 그룹을 결성했습니다.\n",
        "\n",
        "스터디 그룹 내에는 한 주간 배운 내용으로 매주 쪽지 시험을 보는 룰이 있습니다.\n",
        "\n",
        "이 쪽지 시험의 평균이 70점이 넘으면 주말 스터디는 없습니다.\n",
        "\n",
        "주말 스터디의 여부를 True 또는 False로 출력해주세요.\n",
        "\n",
        "<br>\n",
        "A: 70, B: 75, C: 50, D: 80, E: 60\n",
        "\n",
        "<br>"
      ]
    },
    {
      "cell_type": "code",
      "execution_count": 44,
      "metadata": {
        "id": "xd2i9tK9kW6f",
        "colab": {
          "base_uri": "https://localhost:8080/"
        },
        "outputId": "2d5dcd58-ee01-4ffd-e341-25f29eb81ab9"
      },
      "outputs": [
        {
          "output_type": "stream",
          "name": "stdout",
          "text": [
            "False\n",
            "False\n"
          ]
        }
      ],
      "source": [
        "커트라인 = 70\n",
        "평균 = (70+75+50+80+60)/5\n",
        "print(커트라인 < 평균) # 70점 미포함 수식\n",
        "print(커트라인 <= 평균) # 70점 포함 수식"
      ]
    },
    {
      "cell_type": "markdown",
      "metadata": {
        "id": "2Jte2VLKdiPm"
      },
      "source": [
        "__[문제4]__\n",
        "\n",
        "<br>\n",
        "\n",
        "창의성, 시장성, 안정성, 수익성에 대한 각각의 평가 중 아래 기준에 부합하지 못하면 창업지원을 받을 수 없습니다.\n",
        "\n",
        "- 수익성 60점 이상\n",
        "- 창의성과 시장성 50점 이상\n",
        "- 시장성과 수익성을 더한 값의 절반이 안정성 보다 높아야 함\n",
        "\n",
        "\n",
        "다음 점수가 입력되었을때 창업 지원이 가능한지 여부를 True 또는 False로 출력해주세요.\n",
        "\n",
        "---\n",
        "\n",
        "창의성 : 62\n",
        "시장성 : 71\n",
        "안정성 : 68\n",
        "수익성 : 66\n",
        "<br>\n",
        "\n",
        "* 참고\n",
        "(creativity ,\n",
        "marketability ,\n",
        "stability ,\n",
        "profitability )"
      ]
    },
    {
      "cell_type": "markdown",
      "metadata": {
        "id": "kc3pw4v4kW6f"
      },
      "source": [
        "__Tips__\n",
        "* 비교 연산자와 논리 연산자의 결과를 고려해보아요"
      ]
    },
    {
      "cell_type": "code",
      "execution_count": 15,
      "metadata": {
        "id": "XJhvRO-2djBh",
        "colab": {
          "base_uri": "https://localhost:8080/"
        },
        "outputId": "0889236d-2043-4d76-e096-276355501874"
      },
      "outputs": [
        {
          "output_type": "stream",
          "name": "stdout",
          "text": [
            "True\n"
          ]
        }
      ],
      "source": [
        "creativity = 62\n",
        "marketability = 71\n",
        "stability = 68\n",
        "profitability = 66\n",
        "\n",
        "print(profitability >= 60 and creativity >= 50 and marketability >= 50 and (marketability + profitability)/2 > stability)"
      ]
    },
    {
      "cell_type": "markdown",
      "metadata": {
        "id": "DyU0MuDVkW6f"
      },
      "source": [
        "## 모험가들의 레벨업 도전\n",
        "\n",
        "### [배경 이야기]\n",
        "\n",
        "당신은 마법사, 전사, 도적, 힐러 네 명의 모험가를 이끄는 리더입니다.\n",
        "\n",
        "각 캐릭터는 힘, 민첩, 지능, 체력이라는 능력치를 가지고 있습니다. 이 능력치들을 이용해 다양한 도전을 해결하고 사냥을 통해 경험치를 얻어 레벨업을 해야 합니다.\n",
        "\n",
        "<br>\n",
        "\n",
        "### [동료 캐릭터와 능력치 정보]\n",
        "\n",
        "마법사: 힘(10), 민첩(20), 지능(80), 체력(50)\n",
        "\n",
        "전사: 힘(80), 민첩(30), 지능(20), 체력(100)\n",
        "\n",
        "도적: 힘(40), 민첩(80), 지능(30), 체력(60)\n",
        "\n",
        "힐러: 힘(20), 민첩(40), 지능(70), 체력(70)\n",
        "\n",
        "<br>\n",
        "\n",
        "* 변수명을 영어로 변경해서 풀어보세요 !"
      ]
    },
    {
      "cell_type": "markdown",
      "metadata": {
        "id": "pnugJY7OkW6g"
      },
      "source": [
        "<br>\n",
        "\n",
        "__[문제 1: 첫 번째 사냥]__\n",
        "\n",
        "마법사는 몬스터를 사냥하기 위해 마법을 사용합니다.\n",
        "\n",
        "마법을 사용하려면 지능이 50 이상이어야 합니다.\n",
        "\n",
        "마법사의 지능이 50 이상인지 확인하세요."
      ]
    },
    {
      "cell_type": "code",
      "execution_count": 2,
      "metadata": {
        "id": "_PbiR3obkW6g",
        "colab": {
          "base_uri": "https://localhost:8080/"
        },
        "outputId": "af57c800-b50b-43b0-877b-4045d4f28628"
      },
      "outputs": [
        {
          "output_type": "stream",
          "name": "stdout",
          "text": [
            "True\n"
          ]
        }
      ],
      "source": [
        "#힘,민첩,지능,체력순 변수선언\n",
        "magician = {\"STR\" : 10, \"DEX\" : 20, \"INT\" : 80, \"HP\" : 50} #마법사\n",
        "warrior = {\"STR\" : 80, \"DEX\" : 30, \"INT\" : 20, \"HP\" : 100} #전사\n",
        "thief = {\"STR\" : 40, \"DEX\" : 80, \"INT\" : 30, \"HP\" : 60} #도적\n",
        "healer = {\"STR\" : 20, \"DEX\" : 40, \"INT\" : 70, \"HP\" : 70} #힐러\n",
        "\n",
        "print(magician[\"INT\"] >= 50)"
      ]
    },
    {
      "cell_type": "markdown",
      "metadata": {
        "id": "UOMof_ICkW6g"
      },
      "source": [
        "<br>\n",
        "\n",
        "__[문제 2: 두 번째 사냥]__\n",
        "\n",
        "전사는 강력한 공격을 하기 위해 자신의 힘을 사용합니다.\n",
        "\n",
        "전사의 힘이 60 이상이고 체력이 80 이상인지 확인하세요."
      ]
    },
    {
      "cell_type": "code",
      "execution_count": 6,
      "metadata": {
        "id": "va1WL0gckW6g",
        "colab": {
          "base_uri": "https://localhost:8080/"
        },
        "outputId": "d47b8628-2b63-446b-e4e4-6706d87eb684"
      },
      "outputs": [
        {
          "output_type": "stream",
          "name": "stdout",
          "text": [
            "True\n"
          ]
        }
      ],
      "source": [
        "print(warrior[\"STR\"] >= 60 and warrior[\"HP\"] >= 80)"
      ]
    },
    {
      "cell_type": "markdown",
      "metadata": {
        "id": "lFXQPvrOkW6g"
      },
      "source": [
        "<br>\n",
        "\n",
        "__[문제 3: 세 번째 사냥]__\n",
        "\n",
        "도적은 민첩함을 이용해 몬스터를 회피하고 공격합니다.\n",
        "\n",
        "도적의 민첩이 70 이상이거나 힘이 50 이상인지 확인하세요."
      ]
    },
    {
      "cell_type": "code",
      "execution_count": null,
      "metadata": {
        "id": "yYFglHxikW6g"
      },
      "outputs": [],
      "source": [
        "print(thief[\"DEX\"] >= 70 or thief[\"STR\"] >= 50)"
      ]
    },
    {
      "cell_type": "markdown",
      "metadata": {
        "id": "TkRaxjOKkW6h"
      },
      "source": [
        "<br>\n",
        "\n",
        "__[문제 4: 네 번째 사냥]__\n",
        "\n",
        "힐러는 파티의 체력을 회복시키기 위해 마법을 사용합니다.\n",
        "\n",
        "힐러의 지능이 60 이상이고, 체력이 50 이상인지 확인하세요."
      ]
    },
    {
      "cell_type": "code",
      "execution_count": 7,
      "metadata": {
        "id": "oX1uAI21kW6h",
        "colab": {
          "base_uri": "https://localhost:8080/"
        },
        "outputId": "44b8b59a-3922-4331-b4e8-279e71e7d6db"
      },
      "outputs": [
        {
          "output_type": "stream",
          "name": "stdout",
          "text": [
            "True\n"
          ]
        }
      ],
      "source": [
        "print(healer[\"INT\"] >= 60 and healer[\"HP\"] >= 50)"
      ]
    },
    {
      "cell_type": "markdown",
      "metadata": {
        "id": "TeSiVqY7kW6h"
      },
      "source": [
        "<br>\n",
        "\n",
        "__[문제 5: 레벨업]__\n",
        "\n",
        "모든 캐릭터가 사냥을 성공적으로 마쳤습니다. 이제 경험치를 얻어 레벨업을 해야 합니다.\n",
        "\n",
        "\n",
        "각 캐릭터의 경험치가 100 이상인지 print()를 이용해 확인해주세요.\n",
        "\n",
        "<br>\n",
        "\n",
        "경험치는 아래와 같습니다.\n",
        "\n",
        "마법사: 120\n",
        "\n",
        "전사: 150\n",
        "\n",
        "도적: 110\n",
        "\n",
        "힐러: 90\n",
        "\n"
      ]
    },
    {
      "cell_type": "code",
      "execution_count": 19,
      "metadata": {
        "id": "M9bsynB4kW6h",
        "colab": {
          "base_uri": "https://localhost:8080/"
        },
        "outputId": "3cb8f391-006f-4f94-e19a-b5758dd919a2"
      },
      "outputs": [
        {
          "output_type": "stream",
          "name": "stdout",
          "text": [
            "True\n",
            "True\n",
            "True\n",
            "False\n"
          ]
        }
      ],
      "source": [
        "job = [\"magician\",\"warrior\",\"thief\",\"healer\"]\n",
        "characters = {\"magician\": {\"EXP\": 120},\"warrior\": {\"EXP\": 150},\"thief\": {\"EXP\": 110},\"healer\": {\"EXP\": 90}}\n",
        "for job in job:\n",
        "    print(characters[job][\"EXP\"] >= 100)"
      ]
    }
  ],
  "metadata": {
    "colab": {
      "provenance": [],
      "include_colab_link": true
    },
    "kernelspec": {
      "display_name": "Python 3",
      "name": "python3"
    },
    "language_info": {
      "name": "python"
    }
  },
  "nbformat": 4,
  "nbformat_minor": 0
}